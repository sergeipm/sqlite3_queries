{
 "cells": [
  {
   "cell_type": "code",
   "execution_count": 1,
   "metadata": {},
   "outputs": [],
   "source": [
    "# для работы с локальной базой данных воспользуемся sqlite3, импортируем её\n",
    "# создаём подключение к базе данных, если такое название отсутствует в корневой папке, файл автоматически будет создан\n",
    "import sqlite3\n",
    "conn = sqlite3.connect('beorg.db')\n",
    "c = conn.cursor()"
   ]
  },
  {
   "cell_type": "code",
   "execution_count": 2,
   "metadata": {},
   "outputs": [],
   "source": [
    "# создаём для нашей базы первую таблицу clients\n",
    "\n",
    "# код комментируем, чтобы весь проект можно было заново запускать без ошибок\n",
    "\n",
    "\n",
    "# c.execute(\"\"\"CREATE TABLE clients (\n",
    "#     client_id integer,\n",
    "#     date_from text,\n",
    "#     date_to text)\"\"\")\n",
    "          \n",
    "# conn.commit()"
   ]
  },
  {
   "cell_type": "code",
   "execution_count": 3,
   "metadata": {},
   "outputs": [],
   "source": [
    "# первая таблица совсем маленькая, бытсрей будет просто ввести нужные данные несколькими запросами\n",
    "\n",
    "\n",
    "# c.execute(\"INSERT INTO clients VALUES (1, '01.01.2014','31.12.9999')\")\n",
    "# c.execute(\"INSERT INTO clients VALUES (2, '01.02.2015','31.12.9999')\")\n",
    "# c.execute(\"INSERT INTO clients VALUES (3, '01.02.2015','01.01.2016')\")\n",
    "# conn.commit()"
   ]
  },
  {
   "cell_type": "code",
   "execution_count": 4,
   "metadata": {},
   "outputs": [],
   "source": [
    "# для работы с таблицами воспользуемся pandas\n",
    "# таблицы у нас представлены в файле excel\n",
    "import pandas as pd"
   ]
  },
  {
   "cell_type": "code",
   "execution_count": 5,
   "metadata": {},
   "outputs": [
    {
     "data": {
      "text/html": [
       "<div>\n",
       "<style scoped>\n",
       "    .dataframe tbody tr th:only-of-type {\n",
       "        vertical-align: middle;\n",
       "    }\n",
       "\n",
       "    .dataframe tbody tr th {\n",
       "        vertical-align: top;\n",
       "    }\n",
       "\n",
       "    .dataframe thead th {\n",
       "        text-align: right;\n",
       "    }\n",
       "</style>\n",
       "<table border=\"1\" class=\"dataframe\">\n",
       "  <thead>\n",
       "    <tr style=\"text-align: right;\">\n",
       "      <th></th>\n",
       "      <th>ProductType</th>\n",
       "      <th>ClientID</th>\n",
       "      <th>Дата открытия</th>\n",
       "      <th>Дата закрытия</th>\n",
       "      <th>Офис обслуживания</th>\n",
       "    </tr>\n",
       "  </thead>\n",
       "  <tbody>\n",
       "    <tr>\n",
       "      <td>0</td>\n",
       "      <td>Услуга_1</td>\n",
       "      <td>1</td>\n",
       "      <td>2014-08-29</td>\n",
       "      <td>4444-01-01 00:00:00</td>\n",
       "      <td>ДО 1</td>\n",
       "    </tr>\n",
       "    <tr>\n",
       "      <td>1</td>\n",
       "      <td>Услуга_1</td>\n",
       "      <td>1</td>\n",
       "      <td>2015-06-16</td>\n",
       "      <td>4444-01-01 00:00:00</td>\n",
       "      <td>ДО 2</td>\n",
       "    </tr>\n",
       "    <tr>\n",
       "      <td>2</td>\n",
       "      <td>Услуга_1</td>\n",
       "      <td>2</td>\n",
       "      <td>2014-03-04</td>\n",
       "      <td>2014-04-22 00:00:00</td>\n",
       "      <td>ДО 1</td>\n",
       "    </tr>\n",
       "    <tr>\n",
       "      <td>3</td>\n",
       "      <td>Услуга_2</td>\n",
       "      <td>1</td>\n",
       "      <td>2014-02-26</td>\n",
       "      <td>4444-01-01 00:00:00</td>\n",
       "      <td>ДО 2</td>\n",
       "    </tr>\n",
       "    <tr>\n",
       "      <td>4</td>\n",
       "      <td>Услуга_2</td>\n",
       "      <td>3</td>\n",
       "      <td>2014-12-11</td>\n",
       "      <td>2016-01-01 00:00:00</td>\n",
       "      <td>ДО 3</td>\n",
       "    </tr>\n",
       "    <tr>\n",
       "      <td>5</td>\n",
       "      <td>Услуга_2</td>\n",
       "      <td>1</td>\n",
       "      <td>2015-08-11</td>\n",
       "      <td>2015-11-11 00:00:00</td>\n",
       "      <td>ДО 1</td>\n",
       "    </tr>\n",
       "    <tr>\n",
       "      <td>6</td>\n",
       "      <td>Услуга_2</td>\n",
       "      <td>2</td>\n",
       "      <td>2014-08-29</td>\n",
       "      <td>2014-10-21 00:00:00</td>\n",
       "      <td>ДО 5</td>\n",
       "    </tr>\n",
       "    <tr>\n",
       "      <td>7</td>\n",
       "      <td>Услуга_3</td>\n",
       "      <td>1</td>\n",
       "      <td>2014-07-23</td>\n",
       "      <td>4444-01-01 00:00:00</td>\n",
       "      <td>ДО 4</td>\n",
       "    </tr>\n",
       "    <tr>\n",
       "      <td>8</td>\n",
       "      <td>Услуга_4</td>\n",
       "      <td>3</td>\n",
       "      <td>2014-03-03</td>\n",
       "      <td>4444-01-01 00:00:00</td>\n",
       "      <td>ДО 1</td>\n",
       "    </tr>\n",
       "    <tr>\n",
       "      <td>9</td>\n",
       "      <td>Услуга_5</td>\n",
       "      <td>2</td>\n",
       "      <td>2014-03-04</td>\n",
       "      <td>4444-01-01 00:00:00</td>\n",
       "      <td>ДО 3</td>\n",
       "    </tr>\n",
       "    <tr>\n",
       "      <td>10</td>\n",
       "      <td>Услуга_6</td>\n",
       "      <td>1</td>\n",
       "      <td>2014-12-16</td>\n",
       "      <td>2015-04-21 00:00:00</td>\n",
       "      <td>ДО 1</td>\n",
       "    </tr>\n",
       "  </tbody>\n",
       "</table>\n",
       "</div>"
      ],
      "text/plain": [
       "   ProductType  ClientID Дата открытия        Дата закрытия Офис обслуживания\n",
       "0     Услуга_1         1    2014-08-29  4444-01-01 00:00:00              ДО 1\n",
       "1     Услуга_1         1    2015-06-16  4444-01-01 00:00:00              ДО 2\n",
       "2     Услуга_1         2    2014-03-04  2014-04-22 00:00:00              ДО 1\n",
       "3     Услуга_2         1    2014-02-26  4444-01-01 00:00:00              ДО 2\n",
       "4     Услуга_2         3    2014-12-11  2016-01-01 00:00:00              ДО 3\n",
       "5     Услуга_2         1    2015-08-11  2015-11-11 00:00:00              ДО 1\n",
       "6     Услуга_2         2    2014-08-29  2014-10-21 00:00:00              ДО 5\n",
       "7     Услуга_3         1    2014-07-23  4444-01-01 00:00:00              ДО 4\n",
       "8     Услуга_4         3    2014-03-03  4444-01-01 00:00:00              ДО 1\n",
       "9     Услуга_5         2    2014-03-04  4444-01-01 00:00:00              ДО 3\n",
       "10    Услуга_6         1    2014-12-16  2015-04-21 00:00:00              ДО 1"
      ]
     },
     "execution_count": 5,
     "metadata": {},
     "output_type": "execute_result"
    }
   ],
   "source": [
    "# получим эту таблицу и выведим на экран\n",
    "products = pd.read_excel('sql.xlsx', sheet_name = 'products')\n",
    "products"
   ]
  },
  {
   "cell_type": "code",
   "execution_count": 6,
   "metadata": {},
   "outputs": [],
   "source": [
    "# создадим вторую таблицу products\n",
    "\n",
    "# код также комментируем для возможности снова запускать весь код\n",
    "\n",
    "\n",
    "# c.execute(\"\"\"CREATE TABLE products (\n",
    "#     product_type text,\n",
    "#     client_id integer,\n",
    "#     date_start text,\n",
    "#     date_close text,\n",
    "#     office text)\"\"\")\n",
    "          \n",
    "# conn.commit()"
   ]
  },
  {
   "cell_type": "code",
   "execution_count": 7,
   "metadata": {},
   "outputs": [],
   "source": [
    "# для экспорта данных в таблицу в нашей базе данных обратимся к каждой строке импортированной с помощью pandas таблицы\n",
    "\n",
    "\n",
    "\n",
    "# for x in range(0,11):\n",
    "#     c.execute(\"INSERT INTO products VALUES ('{}', {}, '{}','{}','{}')\".format(products.loc[x][0],products.loc[x][1],\n",
    "#                                                                products.loc[x][2],products.loc[x][3],\n",
    "#                                                               products.loc[x][4]))\n",
    "    \n",
    "    \n",
    "# conn.commit()"
   ]
  },
  {
   "cell_type": "code",
   "execution_count": 8,
   "metadata": {},
   "outputs": [],
   "source": [
    "# теперь обе таблицы есть и можно выполнять запросы к ним в sqlite3"
   ]
  },
  {
   "cell_type": "code",
   "execution_count": 9,
   "metadata": {},
   "outputs": [
    {
     "data": {
      "text/plain": [
       "[(1,)]"
      ]
     },
     "execution_count": 9,
     "metadata": {},
     "output_type": "execute_result"
    }
   ],
   "source": [
    "# 1. Вывести уникальные ID клиентов, имеющих действующий продукт \"Услуга_1\"\n",
    "# выводим уникальные значения id клиентов, для которых услуга_1 ещё активна, \n",
    "# значит она есть и дата окончания больше текущей даты\n",
    "c.execute(\"\"\"SELECT\n",
    "                DISTINCT client_id\n",
    "            FROM\n",
    "                products\n",
    "            WHERE \n",
    "                product_type == 'Услуга_1' AND\n",
    "                date_close > '2021-01-01'\n",
    "          \"\"\")\n",
    "c.fetchall()"
   ]
  },
  {
   "cell_type": "code",
   "execution_count": 10,
   "metadata": {},
   "outputs": [
    {
     "data": {
      "text/plain": [
       "[('Услуга_1', 2),\n",
       " ('Услуга_2', 1),\n",
       " ('Услуга_3', 1),\n",
       " ('Услуга_4', 1),\n",
       " ('Услуга_5', 1)]"
      ]
     },
     "execution_count": 10,
     "metadata": {},
     "output_type": "execute_result"
    }
   ],
   "source": [
    "# 2. Вывести наименование и количество действующих продуктов\n",
    "# выводим тип продукта и его количество\n",
    "# в условии указываем проверку активности, а группировкой находим необходимое количество для каждого продукта\n",
    "c.execute(\"\"\"SELECT\n",
    "            product_type,\n",
    "            COUNT(product_type) as cnt\n",
    "            FROM\n",
    "            products\n",
    "            WHERE date_close > '2021-01-01'\n",
    "            GROUP BY\n",
    "            product_type\n",
    "          \"\"\")\n",
    "c.fetchall()"
   ]
  },
  {
   "cell_type": "code",
   "execution_count": 11,
   "metadata": {},
   "outputs": [
    {
     "data": {
      "text/plain": [
       "[(1,)]"
      ]
     },
     "execution_count": 11,
     "metadata": {},
     "output_type": "execute_result"
    }
   ],
   "source": [
    "# 3. Вывести уникальные ID действующих клиентов, имеющих действующий продукт \"Услуга_2\"\n",
    "# выводим уникальные id клиента, берём это из объединённой таблицы, \n",
    "# задаём условия, в таблице с клиентами берём только активных, в таблице с продуктами также фильтруем по активности и\n",
    "# берём только услуга_2\n",
    "c.execute(\"\"\"SELECT\n",
    "                DISTINCT clients.client_id\n",
    "            FROM\n",
    "                products\n",
    "            INNER JOIN clients ON clients.client_id = products.client_id\n",
    "            WHERE\n",
    "                clients.date_to > '01.01.2021' AND\n",
    "                products.date_close > '2021-01-01' AND\n",
    "                products.product_type == 'Услуга_2'\n",
    "          \"\"\")\n",
    "c.fetchall()"
   ]
  },
  {
   "cell_type": "code",
   "execution_count": 12,
   "metadata": {},
   "outputs": [
    {
     "data": {
      "text/plain": [
       "[(2,)]"
      ]
     },
     "execution_count": 12,
     "metadata": {},
     "output_type": "execute_result"
    }
   ],
   "source": [
    "# 4. Вывести уникальные ID действующих клиентов, у которых отсутствует услуга \"Услуга_3\"\n",
    "# для того чтобы найти клиентов без услуги_3, найдём тех у кого она есть\n",
    "# в условии указываем, что нам нужны клиенты, все кроме только что найденных клиентов с услугой_3\n",
    "# отфильтрованную таблицу products объединяем с таблицей с клиентами и находим уникальных клиентов\n",
    "# а в условии говорим, что клиент должен быть активным\n",
    "c.execute(\"\"\"SELECT\n",
    "                DISTINCT clients.client_id\n",
    "            FROM\n",
    "                (SELECT \n",
    "                    DISTINCT client_id AS client_id\n",
    "                FROM\n",
    "                    products\n",
    "                WHERE \n",
    "                client_id != (SELECT \n",
    "                                client_id \n",
    "                            FROM \n",
    "                                products\n",
    "                            WHERE\n",
    "                                product_type == 'Услуга_3')) as service_3\n",
    "            INNER JOIN clients ON clients.client_id = service_3.client_id\n",
    "            WHERE\n",
    "                clients.date_to > '01.01.2021'\n",
    "\n",
    "          \"\"\")\n",
    "c.fetchall()"
   ]
  },
  {
   "cell_type": "code",
   "execution_count": 13,
   "metadata": {},
   "outputs": [],
   "source": [
    "# 5. Для таблицы Products добавить флаг активности продукта (1 - активен, 0 - закрыт)\n",
    "\n",
    "\n",
    "\n",
    "# для добавления нового столбца в таблицу с текущим названием нужно переименовать таблицу\n",
    "# так мы сможем создать новую таблицу используя старое название\n",
    "# c.execute(\"\"\"ALTER TABLE products RENAME TO products_old\"\"\")\n",
    "          \n",
    "# conn.commit()"
   ]
  },
  {
   "cell_type": "code",
   "execution_count": 14,
   "metadata": {},
   "outputs": [],
   "source": [
    "# создаём новую таблицу со старым названием, теперь она пустая и содержит новый столбец\n",
    "\n",
    "\n",
    "\n",
    "# c.execute(\"\"\"CREATE TABLE products (\n",
    "#     product_type text,\n",
    "#     client_id integer,\n",
    "#     date_start text,\n",
    "#     date_close text,\n",
    "#     office text,\n",
    "#     active integer)\"\"\")\n",
    "          \n",
    "# conn.commit()"
   ]
  },
  {
   "cell_type": "code",
   "execution_count": 15,
   "metadata": {},
   "outputs": [],
   "source": [
    "# вставляем в новую таблицу все значения старой таблицы и в конце указываем как заполнять новый столбец\n",
    "# в нашем случае это CASE, для активных 1, для неактивных 0\n"
   ]
  },
  {
   "cell_type": "code",
   "execution_count": 16,
   "metadata": {},
   "outputs": [
    {
     "data": {
      "text/plain": [
       "[('Услуга_1', 1, '2014-08-29 00:00:00', '4444-01-01 00:00:00', 'ДО 1', 1),\n",
       " ('Услуга_1', 1, '2015-06-16 00:00:00', '4444-01-01 00:00:00', 'ДО 2', 1),\n",
       " ('Услуга_1', 2, '2014-03-04 00:00:00', '2014-04-22 00:00:00', 'ДО 1', 0),\n",
       " ('Услуга_2', 1, '2014-02-26 00:00:00', '4444-01-01 00:00:00', 'ДО 2', 1),\n",
       " ('Услуга_2', 3, '2014-12-11 00:00:00', '2016-01-01 00:00:00', 'ДО 3', 0),\n",
       " ('Услуга_2', 1, '2015-08-11 00:00:00', '2015-11-11 00:00:00', 'ДО 1', 0),\n",
       " ('Услуга_2', 2, '2014-08-29 00:00:00', '2014-10-21 00:00:00', 'ДО 5', 0),\n",
       " ('Услуга_3', 1, '2014-07-23 00:00:00', '4444-01-01 00:00:00', 'ДО 4', 1),\n",
       " ('Услуга_4', 3, '2014-03-03 00:00:00', '4444-01-01 00:00:00', 'ДО 1', 1),\n",
       " ('Услуга_5', 2, '2014-03-04 00:00:00', '4444-01-01 00:00:00', 'ДО 3', 1),\n",
       " ('Услуга_6', 1, '2014-12-16 00:00:00', '2015-04-21 00:00:00', 'ДО 1', 0)]"
      ]
     },
     "execution_count": 16,
     "metadata": {},
     "output_type": "execute_result"
    }
   ],
   "source": [
    "# проверка наличия нового столбца и значений в нём для таблицы\n",
    "c.execute(\"\"\"SELECT \n",
    "    *\n",
    "    FROM \n",
    "        products\n",
    "        \"\"\")\n",
    "\n",
    "c.fetchall()"
   ]
  }
 ],
 "metadata": {
  "kernelspec": {
   "display_name": "Python 3",
   "language": "python",
   "name": "python3"
  },
  "language_info": {
   "codemirror_mode": {
    "name": "ipython",
    "version": 3
   },
   "file_extension": ".py",
   "mimetype": "text/x-python",
   "name": "python",
   "nbconvert_exporter": "python",
   "pygments_lexer": "ipython3",
   "version": "3.7.4"
  }
 },
 "nbformat": 4,
 "nbformat_minor": 2
}
